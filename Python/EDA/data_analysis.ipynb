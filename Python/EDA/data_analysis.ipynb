{
 "cells": [
  {
   "cell_type": "code",
   "execution_count": 8,
   "metadata": {},
   "outputs": [
    {
     "name": "stderr",
     "output_type": "stream",
     "text": [
      "/var/folders/ld/v5xnd7_137d4rrc4xcn9v7vr0000gn/T/ipykernel_64835/3462896153.py:4: DtypeWarning: Columns (8) have mixed types. Specify dtype option on import or set low_memory=False.\n",
      "  trans = pd.read_csv('cleaned_trans.csv')\n"
     ]
    }
   ],
   "source": [
    "import pandas as pd\n",
    "\n",
    "# Load the cleaned datasets\n",
    "trans = pd.read_csv('cleaned_trans.csv')\n",
    "client = pd.read_csv('cleaned_client.csv')\n",
    "loan = pd.read_csv('cleaned_loan.csv')"
   ]
  },
  {
   "cell_type": "code",
   "execution_count": 2,
   "metadata": {},
   "outputs": [],
   "source": [
    "merged_data = pd.merge(trans, client, left_on='account_id', right_on='client_id', how='left')\n",
    "merged_data = pd.merge(merged_data, loan, on='account_id', how='left')"
   ]
  },
  {
   "cell_type": "code",
   "execution_count": 3,
   "metadata": {},
   "outputs": [
    {
     "name": "stdout",
     "output_type": "stream",
     "text": [
      "Total Transactions per Account:\n",
      "   account_id     amount\n",
      "0           1   375121.9\n",
      "1           2  3151322.6\n",
      "2           3   292252.2\n",
      "3           4   350835.7\n",
      "4           5   165809.3\n"
     ]
    }
   ],
   "source": [
    "# Total transaction amounts by account\n",
    "total_transactions = trans.groupby('account_id')['amount'].sum().reset_index()\n",
    "print(\"Total Transactions per Account:\")\n",
    "print(total_transactions.head())"
   ]
  },
  {
   "cell_type": "code",
   "execution_count": 4,
   "metadata": {},
   "outputs": [
    {
     "name": "stdout",
     "output_type": "stream",
     "text": [
      "Transaction Counts per Account:\n",
      "   account_id  transaction_count\n",
      "0        8261                672\n",
      "1        3834                663\n",
      "2          96                659\n",
      "3        2932                653\n",
      "4        9307                644\n"
     ]
    }
   ],
   "source": [
    "# Number of transactions per account\n",
    "transaction_counts = trans['account_id'].value_counts().reset_index()\n",
    "transaction_counts.columns = ['account_id', 'transaction_count']\n",
    "print(\"Transaction Counts per Account:\")\n",
    "print(transaction_counts.head())"
   ]
  },
  {
   "cell_type": "code",
   "execution_count": 5,
   "metadata": {},
   "outputs": [
    {
     "name": "stdout",
     "output_type": "stream",
     "text": [
      "Average Loan Amount: 151410.1759530792\n"
     ]
    }
   ],
   "source": [
    "# Analyze Loan Data\n",
    "# Average loan amount\n",
    "average_loan_amount = loan['amount'].mean()\n",
    "print(f\"Average Loan Amount: {average_loan_amount}\")"
   ]
  },
  {
   "cell_type": "code",
   "execution_count": 6,
   "metadata": {},
   "outputs": [
    {
     "name": "stdout",
     "output_type": "stream",
     "text": [
      "Default Rate: 0.0\n"
     ]
    }
   ],
   "source": [
    "# Default rate\n",
    "default_rate = loan[loan['status'] == 'default'].shape[0] / loan.shape[0]\n",
    "print(f\"Default Rate: {default_rate}\")"
   ]
  },
  {
   "cell_type": "code",
   "execution_count": 7,
   "metadata": {},
   "outputs": [
    {
     "name": "stdout",
     "output_type": "stream",
     "text": [
      "Data Analysis Completed!\n"
     ]
    }
   ],
   "source": [
    "# Save analysis results to CSV (optional)\n",
    "total_transactions.to_csv('total_transactions.csv', index=False)\n",
    "transaction_counts.to_csv('transaction_counts.csv', index=False)\n",
    "\n",
    "print(\"Data Analysis Completed!\")"
   ]
  }
 ],
 "metadata": {
  "kernelspec": {
   "display_name": "Python 3",
   "language": "python",
   "name": "python3"
  },
  "language_info": {
   "codemirror_mode": {
    "name": "ipython",
    "version": 3
   },
   "file_extension": ".py",
   "mimetype": "text/x-python",
   "name": "python",
   "nbconvert_exporter": "python",
   "pygments_lexer": "ipython3",
   "version": "3.11.5"
  }
 },
 "nbformat": 4,
 "nbformat_minor": 2
}
